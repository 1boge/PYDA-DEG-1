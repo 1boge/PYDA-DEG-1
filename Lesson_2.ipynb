{
 "cells": [
  {
   "cell_type": "markdown",
   "metadata": {},
   "source": [
    "## Задание 1\n",
    "Дана переменная, в которой хранится слово из латинских букв. Напишите код, который выводит на экран:\n",
    "\n",
    "среднюю букву, если число букв в слове нечетное;\n",
    "две средних буквы, если число букв четное.\n",
    "Примеры работы программы:\n",
    "\n",
    "word = ‘test’\n",
    "Результат:\n",
    "es\n",
    "\n",
    "word = ‘testing’\n",
    "Результат:\n",
    "t"
   ]
  },
  {
   "cell_type": "code",
   "execution_count": 1,
   "metadata": {},
   "outputs": [
    {
     "name": "stdout",
     "output_type": "stream",
     "text": [
      "Введите слово: ghfd\n",
      "h f\n"
     ]
    }
   ],
   "source": [
    "input_word = input(str('Введите слово: '))\n",
    "if len(input_word) % 2 == 0:\n",
    "    print(input_word[len(input_word) // 2 - 1], input_word[len(input_word) // 2])\n",
    "else:\n",
    "    print(input_word[len(input_word) // 2])"
   ]
  },
  {
   "cell_type": "markdown",
   "metadata": {},
   "source": [
    "## Задание 2\n",
    "Напишите программу, которая последовательно запрашивает у пользователя числа (по одному за раз) и после первого нуля выводит сумму всех ранее введенных чисел.\n",
    "\n",
    "Примеры работы программы:\n",
    "\n",
    "Введите число:\n",
    "1\n",
    "\n",
    "Введите число:\n",
    "4\n",
    "\n",
    "Введите число:\n",
    "6\n",
    "\n",
    "Введите число:\n",
    "0\n",
    "Результат:\n",
    "11\n",
    "\n",
    "Введите число:\n",
    "0\n",
    "Результат:\n",
    "0"
   ]
  },
  {
   "cell_type": "code",
   "execution_count": 7,
   "metadata": {},
   "outputs": [
    {
     "name": "stdout",
     "output_type": "stream",
     "text": [
      "Введите число: 1\n",
      "Введите число: 1\n",
      "Введите число: 0\n",
      "Сумма 2\n"
     ]
    }
   ],
   "source": [
    "input_digit = 1\n",
    "summ = 0\n",
    "while input_digit != 0:\n",
    "    input_digit = input('Введите число: ')\n",
    "    summ = summ + int(input_digit)\n",
    "    if int(input_digit) == 0:\n",
    "        break\n",
    "print ('Сумма',summ)"
   ]
  },
  {
   "cell_type": "markdown",
   "metadata": {},
   "source": [
    "## Задание 3\n",
    "Мы делаем MVP dating-сервиса, и у нас есть список парней и девушек.\n",
    "Выдвигаем гипотезу: лучшие рекомендации мы получим, если просто отсортируем имена по алфавиту и познакомим людей с одинаковыми индексами после сортировки! Но мы не будем никого знакомить, если кто-то может остаться без пары:\n",
    "\n",
    "Примеры работы программы:\n",
    "\n",
    "boys = [‘Peter’, ‘Alex’, ‘John’, ‘Arthur’, ‘Richard’]\n",
    "girls = [‘Kate’, ‘Liza’, ‘Kira’, ‘Emma’, ‘Trisha’]\n",
    "Результат:\n",
    "\n",
    "Идеальные пары:\n",
    "Alex и Emma\n",
    "Arthur и Kate\n",
    "John и Kira\n",
    "Peter и Liza\n",
    "Richard и Trisha\n",
    "boys = [‘Peter’, ‘Alex’, ‘John’, ‘Arthur’, ‘Richard’, ‘Michael’]\n",
    "girls = [‘Kate’, ‘Liza’, ‘Kira’, ‘Emma’, ‘Trisha’]\n",
    "Результат:\n",
    "Внимание, кто-то может остаться без пары!"
   ]
  },
  {
   "cell_type": "code",
   "execution_count": 22,
   "metadata": {},
   "outputs": [
    {
     "name": "stdout",
     "output_type": "stream",
     "text": [
      "Иделаьные пары:\n",
      "Alex и Emma\n",
      "Arthur и Kate\n",
      "John и Kira\n",
      "Michael и Liza\n",
      "Peter и Trisha\n"
     ]
    }
   ],
   "source": [
    "boys = ['Peter', 'Alex', 'John', 'Arthur', 'Michael']\n",
    "girls = ['Kate', 'Liza', 'Kira', 'Emma', 'Trisha']\n",
    "i = 0\n",
    "if len(boys) != len(girls):\n",
    "    print ('Внимание, кто-то может остаться без пары!')\n",
    "else:\n",
    "    print('Иделаьные пары:')\n",
    "    for cnt in boys:\n",
    "        boys_sorted = sorted(boys)\n",
    "        girls_sorted = sorted(girls)\n",
    "        print(boys_sorted[0+i], 'и', girls_sorted[0+i])\n",
    "        i = i+1"
   ]
  },
  {
   "cell_type": "markdown",
   "metadata": {},
   "source": [
    "## Задание 4\n",
    "У нас есть список, содержащий информацию о среднедневной температуре в Фаренгейтах за произвольный период по странам (структура данных в примере). Необходимо написать код, который рассчитает среднюю температуру за период в Цельсиях(!) для каждой страны.\n",
    "\n",
    "Пример работы программы:\n",
    "\n",
    "countries_temperature = [\n",
    "[‘Thailand’, [75.2, 77, 78.8, 73.4, 68, 75.2, 77]],\n",
    "[‘Germany’, [57.2, 55.4, 59, 59, 53.6]],\n",
    "[‘Russia’, [35.6, 37.4, 39.2, 41, 42.8, 39.2, 35.6]],\n",
    "[‘Poland’, [50, 50, 53.6, 57.2, 55.4, 55.4]]\n",
    "]\n",
    "Результат:\n",
    "\n",
    "Средняя температура в странах:\n",
    "Thailand - 23.9 С\n",
    "Germany - 13.8 С\n",
    "Russia - 3.7 С\n",
    "Poland - 12.0 С"
   ]
  },
  {
   "cell_type": "code",
   "execution_count": 29,
   "metadata": {},
   "outputs": [
    {
     "name": "stdout",
     "output_type": "stream",
     "text": [
      "Средняя температура в странах:\n",
      "Thailand - 23.9 C\n",
      "Germany - 13.8 C\n",
      "Russia - 3.7 C\n",
      "Poland - 12.0 C\n"
     ]
    }
   ],
   "source": [
    "countries_temperature = [['Thailand',[75.2,77,78.8,73.4,68,75.2,77]],['Germany',[57.2,55.4,59,59,53.6]],['Russia',[35.6,37.4,39.2,41,42.8,39.2,35.6]],['Poland',[50,50,53.6,57.2,55.4,55.4]]]\n",
    "i = 0\n",
    "print('Средняя температура в странах:')\n",
    "for cnt in countries_temperature:\n",
    "    first = list(countries_temperature[0+i])\n",
    "    avg1 = round(((sum(first[1])/len(first[1]) - 32)*5/9),1)\n",
    "    print(first[0],'-',avg1,'C')\n",
    "    i = i + 1"
   ]
  },
  {
   "cell_type": "markdown",
   "metadata": {},
   "source": [
    "## Задание 5 (необязательное)\n",
    "Дан поток логов по количеству просмотренных страниц для каждого пользователя. Вам необходимо написать алгоритм, который считает среднее значение просмотров на пользователя. Т. е. надо посчитать отношение суммы всех просмотров к количеству уникальных пользователей.\n",
    "\n",
    "Примеры работы программы:\n",
    "\n",
    "stream = [\n",
    "‘2018-01-01,user1,3’,\n",
    "‘2018-01-07,user1,4’,\n",
    "‘2018-03-29,user1,1’,\n",
    "‘2018-04-04,user1,13’,\n",
    "‘2018-01-05,user2,7’,\n",
    "‘2018-06-14,user3,4’,\n",
    "‘2018-07-02,user3,10’,\n",
    "‘2018-03-21,user4,19’,\n",
    "‘2018-03-22,user4,4’,\n",
    "‘2018-04-22,user4,8’,\n",
    "‘2018-05-03,user4,9’,\n",
    "‘2018-05-11,user4,11’,\n",
    "]\n",
    "Результат:\n",
    "Среднее количество просмотров на уникального пользователя: 23.25\n",
    "\n",
    "stream = [\n",
    "‘2018-01-01,user100,150’,\n",
    "‘2018-01-07,user99,205’,\n",
    "‘2018-03-29,user1001,81’\n",
    "]\n",
    "Результат:\n",
    "Среднее количество просмотров на уникального пользователя: 145.33"
   ]
  },
  {
   "cell_type": "code",
   "execution_count": 34,
   "metadata": {},
   "outputs": [
    {
     "name": "stdout",
     "output_type": "stream",
     "text": [
      "1.0\n",
      "2.0\n",
      "3.0\n",
      "4.0\n",
      "5.0\n",
      "6.0\n",
      "7.0\n",
      "8.0\n",
      "9.0\n",
      "10.0\n",
      "11.0\n",
      "12.0\n"
     ]
    }
   ],
   "source": [
    "summ = 0\n",
    "users_list = []\n",
    "stream = ['2018-01-01,user1,3', '2018-01-07,user1,4', '2018-03-29,user1,1', '2018-04-04,user1,13', '2018-01-05,user2,7', '2018-06-14,user3,4', '2018-07-02,user3,10', '2018-03-21,user4,19', '2018-03-22,user4,4', '2018-04-22,user4,8', '2018-05-03,user4,9', '2018-05-11,user4,11']\n",
    "for user_count in stream:\n",
    "    if user_count[1] not in users_list:\n",
    "        users_list.append(user_count[1])\n",
    "    sessions = int(user_count[2])\n",
    "    summ = summ + sessions\n",
    "    print(summ / int(len(users_list)))"
   ]
  },
  {
   "cell_type": "code",
   "execution_count": null,
   "metadata": {},
   "outputs": [],
   "source": [
    "в задаче с парами сортировку так же можно было поместить под условие, чтобы она выполнялась только тогда, когда точно будет необходимо. И стоило вывести информацию ровно в том виде, какой указан в описании задания, для этого понадобился бы цикл;\n",
    "в задаче с температурами ваш вариант реализации не является универсальным. Вы буквально вручную обрабатываете расчет по каждой стране, а если их будет 100? Ваш код не должен зависеть от количество элементов в исходной структуре данных, стран может быть хоть сколько, а вывод все равно должен быть корректный. Просьба это поправить;\n",
    "в 5 задаче я бы предварительно объявил список (users_list), в который бы собирал уникальных пользователей, а в цикле организовал бы вот такую проверку:\n",
    "1\n",
    "2\n",
    "if user_split[1] not in users_list:\n",
    "    users_list.append(user_split[1])\n",
    "А потом просто делим количество всех просмотров на длину списка уникальных пользователей :)"
   ]
  }
 ],
 "metadata": {
  "kernelspec": {
   "display_name": "Python 3",
   "language": "python",
   "name": "python3"
  },
  "language_info": {
   "codemirror_mode": {
    "name": "ipython",
    "version": 3
   },
   "file_extension": ".py",
   "mimetype": "text/x-python",
   "name": "python",
   "nbconvert_exporter": "python",
   "pygments_lexer": "ipython3",
   "version": "3.7.6"
  }
 },
 "nbformat": 4,
 "nbformat_minor": 4
}
