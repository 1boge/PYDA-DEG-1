{
 "cells": [
  {
   "cell_type": "markdown",
   "metadata": {},
   "source": [
    "# Задание 1\n",
    "Даны 2 переменных, в которых хранятся строки произвольной длины: phrase_1 и phrase_2.\n",
    "Напишите код, который проверяет какая из этих строк длиннее.\n",
    "\n",
    "Примеры работы программы:\n",
    "\n",
    "phrase_1 = 'Насколько проще было бы писать программы, если бы не заказчики’\n",
    "phrase_2 = '640Кб должно хватить для любых задач. Билл Гейтс (по легенде)'\n",
    "Результат:\n",
    "Фраза 1 длиннее фразы 2\n",
    "\n",
    "phrase_1 = '640Кб должно хватить для любых задач. Билл Гейтс (по легенде)'\n",
    "phrase_2 = 'Насколько проще было бы писать программы, если бы не заказчики’\n",
    "Результат:\n",
    "Фраза 2 длиннее фразы 1\n",
    "\n",
    "phrase_1 = 'Насколько проще было бы писать программы, если бы не заказчики’\n",
    "phrase_2 = 'Насколько проще было бы писать программы, если бы не заказчики’\n",
    "Результат:\n",
    "Фразы равной длины\n"
   ]
  },
  {
   "cell_type": "code",
   "execution_count": 42,
   "metadata": {},
   "outputs": [
    {
     "name": "stdout",
     "output_type": "stream",
     "text": [
      "Фраза 1 длиннее Фразы 2\n"
     ]
    }
   ],
   "source": [
    "phrase_1 = 'Насколько проще было бы писать программы, если бы не заказчики'\n",
    "phrase_2 = '640Кб должно хватить для любых задач. Билл Гейтс (по легенде)'\n",
    "if phrase_1 > phrase_2:\n",
    "    print ('Фраза 1 длиннее Фразы 2')\n",
    "elif phrase_2 > phrase_1:\n",
    "    print ('Фраза 2 длиннее Фразы 1')\n",
    "elif not phrase_1 != phrase_2:\n",
    "    print ('Фразы равны')"
   ]
  },
  {
   "cell_type": "code",
   "execution_count": 43,
   "metadata": {},
   "outputs": [
    {
     "name": "stdout",
     "output_type": "stream",
     "text": [
      "Фразы равны\n"
     ]
    }
   ],
   "source": [
    "phrase_1 = 'Насколько проще было бы писать программы, если бы не заказчики'\n",
    "phrase_2 = 'Насколько проще было бы писать программы, если бы не заказчики'\n",
    "if phrase_1 > phrase_2:\n",
    "    print ('Фраза 1 длиннее Фразы 2')\n",
    "elif phrase_2 > phrase_1:\n",
    "    print ('Фраза 2 длиннее Фразы 1')\n",
    "elif not phrase_1 != phrase_2:\n",
    "    print ('Фразы равны')"
   ]
  },
  {
   "cell_type": "code",
   "execution_count": 44,
   "metadata": {},
   "outputs": [
    {
     "name": "stdout",
     "output_type": "stream",
     "text": [
      "Фраза 2 длиннее Фразы 1\n"
     ]
    }
   ],
   "source": [
    "phrase_1 = '640Кб должно хватить для любых задач. Билл Гейтс (по легенде)'\n",
    "phrase_2 = 'Насколько проще было бы писать программы, если бы не заказчики'\n",
    "if phrase_1 > phrase_2:\n",
    "    print ('Фраза 1 длиннее Фразы 2')\n",
    "elif phrase_2 > phrase_1:\n",
    "    print ('Фраза 2 длиннее Фразы 1')\n",
    "elif not phrase_1 != phrase_2:\n",
    "    print ('Фразы равны')"
   ]
  },
  {
   "cell_type": "markdown",
   "metadata": {},
   "source": [
    "# Задание 2\n",
    "Дана переменная, в которой хранится четырехзначное число (год). Необходимо написать программу, которая выведет, является ли данный год високосным или обычным.\n",
    "\n",
    "Пример работы программы:\n",
    "\n",
    "year = 2020\n",
    "Результат:\n",
    "Високосный год\n",
    "\n",
    "year = 2019\n",
    "Результат:\n",
    "Обычный год\n",
    "\n",
    "Любой год, который делится на 4 без остатка, является високосным годом: например, 1988, 1992 и 1996 годы являются високосными годами.\n",
    "\n",
    "Тем не менее, есть еще небольшая ошибка, которая должна быть учтена. Чтобы устранить эту ошибку, григорианский календарь предусматривает, что год, который делится без остатка на 100 (например, 1900) является високосным годом только в том случае, если он также без остатка делится на 400."
   ]
  },
  {
   "cell_type": "code",
   "execution_count": 70,
   "metadata": {},
   "outputs": [
    {
     "name": "stdout",
     "output_type": "stream",
     "text": [
      "Обычный год\n"
     ]
    }
   ],
   "source": [
    "year = 2020\n",
    "if year % 4 == 0:\n",
    "    print ('Високосный')\n",
    "elif year % 100 == 0 and year % 400 == 0:\n",
    "    print ('Високосный')\n",
    "else:\n",
    "    print ('Обычный год')"
   ]
  },
  {
   "cell_type": "markdown",
   "metadata": {},
   "source": [
    "# Задание 3\n",
    "Необходимо написать программу, которая будет запрашивать у пользователя месяц и дату рождения и выводить соответствующий знак зодиака.\n",
    "\n",
    "Пример работы программы:\n",
    "\n",
    "Введите день:\n",
    "30\n",
    "\n",
    "Введите месяц:\n",
    "Август\n",
    "Результат:\n",
    "Ваш знак зодиака: Дева\n",
    "\n",
    "Введите день:\n",
    "29\n",
    "\n",
    "Введите месяц:\n",
    "Октябрь\n",
    "Результат:\n",
    "Ваш знак зодиака: Скорпион\n",
    "\n",
    "# Для задания взял неправльный календарь, просьба не судить"
   ]
  },
  {
   "cell_type": "code",
   "execution_count": 1,
   "metadata": {},
   "outputs": [
    {
     "name": "stdout",
     "output_type": "stream",
     "text": [
      "Введите день: 9\n",
      "Введите месяц: Декабрь\n",
      "Ваш знак зодиака:Змееносец\n"
     ]
    }
   ],
   "source": [
    "input_day = int(input('Введите день: '))\n",
    "input_month = input('Введите месяц: ')\n",
    "if input_day < 1 or input_day > 31:\n",
    "    print ('Неверное значение')\n",
    "elif input_day >= 18 and input_month == 'Апрель' or input_day < 13 and input_month == 'Май':\n",
    "    print ('Ваш знак зодиака:Овен')\n",
    "elif input_day >= 20 and input_month == 'Январь' or input_day < 16 and input_month == 'Февраль':\n",
    "    print ('Ваш знак зодиака:Козерог')\n",
    "elif input_day >= 16 and input_month == 'Февраль' or input_day < 11 and input_month == 'Март':\n",
    "    print ('Ваш знак зодиака:Водолей')\n",
    "elif input_day >= 11 and input_month == 'Март' or input_day < 18 and input_month == 'Апрель':\n",
    "    print ('Ваш знак зодиака:Рыбы')\n",
    "elif input_day >= 13 and input_month == 'Май' or input_day < 21 and input_month == 'Июнь':\n",
    "    print ('Ваш знак зодиака:Телец')\n",
    "elif input_day >= 21 and input_month == 'Июнь' or input_day < 20 and input_month == 'Июль':\n",
    "    print ('Ваш знак зодиака:Близнецы')\n",
    "elif input_day >= 20 and input_month == 'Июль' or input_day < 10 and input_month == 'Август':\n",
    "    print ('Ваш знак зодиака:Рак')\n",
    "elif input_day >= 10 and input_month == 'Август' or input_day < 16 and input_month == 'Сентябрь':\n",
    "    print ('Ваш знак зодиака:Лев')\n",
    "elif input_day >= 16 and input_month == 'Сентябрь' or input_day < 30 and input_month == 'Октябрь':\n",
    "    print ('Ваш знак зодиака:Дева')\n",
    "elif input_day >= 30 and input_month == 'Октябрь' or input_day < 23 and input_month == 'Ноябрь':\n",
    "    print ('Ваш знак зодиака:Весы')\n",
    "elif input_day >= 23 and input_month == 'Ноября' or input_day < 29 and input_month == 'Ноябрь':\n",
    "    print ('Ваш знак зодиака:Скорпион')\n",
    "elif input_day >= 29 and input_month == 'Ноябрь' or input_day < 17 and input_month == 'Декабрь':\n",
    "    print ('Ваш знак зодиака:Змееносец')\n",
    "elif input_day >= 17 and input_month == 'Декабрь' or input_day < 20 and input_month == 'Январь':\n",
    "    print ('Ваш знак зодиака:Стрелец')"
   ]
  },
  {
   "cell_type": "markdown",
   "metadata": {},
   "source": [
    "# Задание 4\n",
    "Вам нужно написать программу для подбора упаковок по размерам товара. Размеры хранятся в переменных (в сантиметрах):\n",
    "\n",
    "width = 10\n",
    "length = 205\n",
    "height = 5\n",
    "Используйте следующие правила:\n",
    "\n",
    "если каждое из трех измерений менее 15 сантиметров, то выведите на экран “Коробка №1”;\n",
    "если хотя бы одно из измерений больше 15 сантиметров, но менее 50 сантиметров, то выводите “Коробка №2”;\n",
    "если длина товара больше 2 метров, то выводите “Упаковка для лыж”;\n",
    "во всех остальных случаях выводите “Стандартная коробка №3”."
   ]
  },
  {
   "cell_type": "code",
   "execution_count": 13,
   "metadata": {},
   "outputs": [
    {
     "name": "stdout",
     "output_type": "stream",
     "text": [
      "Упаковка для лыж\n"
     ]
    }
   ],
   "source": [
    "width = 10\n",
    "length = 205\n",
    "height = 55\n",
    "if width < 15 and length < 15 and height < 15:\n",
    "    print ('Коробка №1')\n",
    "elif ((width > 15 and width < 50) and (length > 15 and length < 50) and (height > 15 and height <50)):\n",
    "    print ('Коробка №2')\n",
    "elif length > 200:\n",
    "    print ('Упаковка для лыж')\n",
    "else: print ('Стандартная коробка №3')"
   ]
  },
  {
   "cell_type": "markdown",
   "metadata": {},
   "source": [
    "# Задание 5 (необязательное)\n",
    "Дана переменная, в которой хранится шестизначное число (номер проездного билета). Напишите программу, которая будет определять, является ли данный билет “счастливым”. Билет считается счастливым, если сумма первых трех цифр совпадает с суммой последних трех цифр номера.\n",
    "\n",
    "Примеры работы программы:\n",
    "\n",
    "number = 123456\n",
    "Результат:\n",
    "Неасчастливый билет\n",
    "\n",
    "number = 123321\n",
    "Результат:\n",
    "Счастливый билет"
   ]
  },
  {
   "cell_type": "code",
   "execution_count": 37,
   "metadata": {},
   "outputs": [
    {
     "name": "stdout",
     "output_type": "stream",
     "text": [
      "Cчастливый билет\n"
     ]
    }
   ],
   "source": [
    "number = str(123321)\n",
    "a = int(number[0])\n",
    "b = int(number[1])\n",
    "c = int(number[2])\n",
    "d = int(number[3])\n",
    "e = int(number[4])\n",
    "f = int(number[5])\n",
    "summ_first_part = a + b + c\n",
    "summ_second_part = d + e + f\n",
    "if summ_first_part > summ_second_part or summ_first_part < summ_second_part:\n",
    "    print ('Несчастливый билет')\n",
    "elif summ_first_part == summ_second_part:\n",
    "    print ('Cчастливый билет')"
   ]
  },
  {
   "cell_type": "code",
   "execution_count": null,
   "metadata": {},
   "outputs": [],
   "source": []
  }
 ],
 "metadata": {
  "kernelspec": {
   "display_name": "Python 3",
   "language": "python",
   "name": "python3"
  },
  "language_info": {
   "codemirror_mode": {
    "name": "ipython",
    "version": 3
   },
   "file_extension": ".py",
   "mimetype": "text/x-python",
   "name": "python",
   "nbconvert_exporter": "python",
   "pygments_lexer": "ipython3",
   "version": "3.7.6"
  }
 },
 "nbformat": 4,
 "nbformat_minor": 4
}
